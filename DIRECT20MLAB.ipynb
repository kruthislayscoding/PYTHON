{
 "cells": [
  {
   "cell_type": "code",
   "execution_count": 4,
   "metadata": {},
   "outputs": [
    {
     "name": "stdout",
     "output_type": "stream",
     "text": [
      "-------------------\n",
      "original\n",
      "--------------\n",
      "basketball\n",
      "-------------\n",
      "modified content\n",
      "-------------------\n",
      "Basketball\n",
      "--------------------\n",
      "llabteksab\n",
      "--------------------\n"
     ]
    }
   ],
   "source": [
    "#CREATE A TEXT FLIE CALLED MY_FILE.TXT WITH SOME CONTENT AND \n",
    "# CAPITALISE THE FIRST LETTER OF EVERY WORD PRINT CONTENT IN REVERSE ORDER\n",
    "#LOGIC IS USE DEF, INPUT STRING THEN USE FILE OPEN WITH WRITE MODE\n",
    "# FILE.WRTIE(STRING) THEN CLOSE FILE THEN DEF READ THEN WITH OPEN AS FILE:\n",
    "#DATA=FILE.READ() CLOSE IT THEN  PRINT OC IE DATA, THEN MC THEN DATA.TITLE() THEN WRITE READ\n",
    "def write():\n",
    "    string=input(\"enter the paragraph\")\n",
    "    file =open('/Users/kruthinipun/Library/Mobile Documents/com~apple~CloudDocs/EL Report Format[PYTHON].docx','w')\n",
    "    file.write(string)\n",
    "    file.close()\n",
    "def read():\n",
    "    with open('/Users/kruthinipun/Library/Mobile Documents/com~apple~CloudDocs/EL Report Format[PYTHON].docx') as file:\n",
    "        data=file.read()\n",
    "    file.close()\n",
    "    print('-------------------')\n",
    "    print('original')\n",
    "    print('--------------')\n",
    "    print(data)\n",
    "    print('-------------')\n",
    "    print('modified content')\n",
    "    print('-------------------')\n",
    "    print(data.title())\n",
    "    print('--------------------')\n",
    "    print(data[::-1])\n",
    "    print('--------------------')\n",
    "write()\n",
    "read()\n"
   ]
  },
  {
   "cell_type": "code",
   "execution_count": 24,
   "metadata": {},
   "outputs": [
    {
     "name": "stdout",
     "output_type": "stream",
     "text": [
      "choose set operations\n",
      "1:Add or insert\n",
      "2:Delete or remove\n",
      "3:append/update\n",
      "4:view/display\n",
      "0:to exit\n",
      "set()\n",
      "choose set operations\n",
      "1:Add or insert\n",
      "2:Delete or remove\n",
      "3:append/update\n",
      "4:view/display\n",
      "0:to exit\n",
      "{'hi,hello,me'}\n",
      "choose set operations\n",
      "1:Add or insert\n",
      "2:Delete or remove\n",
      "3:append/update\n",
      "4:view/display\n",
      "0:to exit\n",
      "{'e', 'h', 'hi,hello,me', 'y'}\n",
      "choose set operations\n",
      "1:Add or insert\n",
      "2:Delete or remove\n",
      "3:append/update\n",
      "4:view/display\n",
      "0:to exit\n",
      "{'h', '3', 'e', 'hi,hello,me', 'y'}\n",
      "choose set operations\n",
      "1:Add or insert\n",
      "2:Delete or remove\n",
      "3:append/update\n",
      "4:view/display\n",
      "0:to exit\n"
     ]
    },
    {
     "ename": "ValueError",
     "evalue": "invalid literal for int() with base 10: ''",
     "output_type": "error",
     "traceback": [
      "\u001b[0;31m---------------------------------------------------------------------------\u001b[0m",
      "\u001b[0;31mValueError\u001b[0m                                Traceback (most recent call last)",
      "Cell \u001b[0;32mIn[24], line 16\u001b[0m\n\u001b[1;32m     14\u001b[0m \u001b[38;5;28mprint\u001b[39m(\u001b[38;5;124m\"\u001b[39m\u001b[38;5;124m4:view/display\u001b[39m\u001b[38;5;124m\"\u001b[39m)\n\u001b[1;32m     15\u001b[0m \u001b[38;5;28mprint\u001b[39m(\u001b[38;5;124m'\u001b[39m\u001b[38;5;124m0:to exit\u001b[39m\u001b[38;5;124m'\u001b[39m)\n\u001b[0;32m---> 16\u001b[0m operations\u001b[38;5;241m=\u001b[39m\u001b[38;5;28;43mint\u001b[39;49m\u001b[43m(\u001b[49m\u001b[38;5;28;43minput\u001b[39;49m\u001b[43m(\u001b[49m\u001b[43m)\u001b[49m\u001b[43m)\u001b[49m\n\u001b[1;32m     17\u001b[0m \u001b[38;5;28;01mif\u001b[39;00m operations\u001b[38;5;241m==\u001b[39m\u001b[38;5;241m1\u001b[39m:\n\u001b[1;32m     18\u001b[0m   data\u001b[38;5;241m=\u001b[39m\u001b[38;5;28minput\u001b[39m(\u001b[38;5;124m\"\u001b[39m\u001b[38;5;124melements to add\u001b[39m\u001b[38;5;124m\"\u001b[39m)\n",
      "\u001b[0;31mValueError\u001b[0m: invalid literal for int() with base 10: ''"
     ]
    }
   ],
   "source": [
    "#IMPLEMENT SET AND TUPLE OPERATIONS CREATE EMPTY SET AND TUPLE\n",
    "#RUN INFINITE while 1 LOOP FOR MENU CHOICE S OR T OR N TO TERM, IF CHOICE S WHILE 1 PRINT 5 OPTIONS\n",
    "#IF,ELIF,ELIF,ELIF,ELIF,ELSE INVALID, THEN ELIF CHOICE T, SAME , THEN ELIF CHOICE N BREAK\n",
    "setdata=set()\n",
    "tupledata=tuple()\n",
    "while 1:\n",
    "  choice=input(\"choose s for set operations,choose t for tuple operations and choose n to terminate\")\n",
    "  if choice=='s':\n",
    "    while 1:\n",
    "      print(\"choose set operations\")\n",
    "      print(\"1:Add or insert\")\n",
    "      print(\"2:Delete or remove\")\n",
    "      print(\"3:append/update\")\n",
    "      print(\"4:view/display\")\n",
    "      print('0:to exit')\n",
    "      operations=int(input())\n",
    "      if operations==1:\n",
    "        data=input(\"elements to add\")\n",
    "        setdata.add(data)\n",
    "        print(setdata)\n",
    "      elif operations==2:\n",
    "         data=input('elements to delete')\n",
    "         setdata.discard(data)\n",
    "         print(setdata)\n",
    "      elif operations==3:\n",
    "         data=input('enter element to append')\n",
    "         setdata.update(data)\n",
    "         print(setdata)\n",
    "      elif operations==4:\n",
    "          print(setdata)\n",
    "      elif operations==0:\n",
    "         break\n",
    "      else:\n",
    "         print('invalid choice')\n",
    "  elif choice=='t':\n",
    "     while 1:\n",
    "        print('choose the tuple operation')\n",
    "        print('1:add/insert')\n",
    "        print('2:delete tuple')\n",
    "        print('3:display/view')\n",
    "        print('0:exit')\n",
    "        operations=int(input())\n",
    "        if operations==1:\n",
    "           data=input('enter the element to add')\n",
    "           tupledata+=(data)\n",
    "        elif operations==2:\n",
    "           del tupledata\n",
    "           print('tuple deleted')\n",
    "        elif operations==3:\n",
    "           print(tupledata)\n",
    "        elif operations==0:\n",
    "           break\n",
    "        else:\n",
    "           print('invalid')\n",
    "  elif choice=='n':\n",
    "     break\n",
    "  \n",
    "\n"
   ]
  },
  {
   "cell_type": "code",
   "execution_count": 31,
   "metadata": {},
   "outputs": [
    {
     "name": "stdout",
     "output_type": "stream",
     "text": [
      "====employee database====\n",
      "1 create\n",
      " 2 add \n",
      " 3 search \n",
      " 4 delete \u0005 display\n",
      "\n",
      "==============\n",
      "===========\n",
      "enter employee1\n",
      "==============\n",
      "============\n",
      "===========\n",
      "enter employee2\n",
      "==============\n",
      "============\n",
      "====employee database====\n",
      "1 create\n",
      " 2 add \n",
      " 3 search \n",
      " 4 delete \u0005 display\n",
      "\n",
      "==============\n",
      "['kruthi', '17/12/2005', 'ceo']\n",
      "====employee database====\n",
      "1 create\n",
      " 2 add \n",
      " 3 search \n",
      " 4 delete \u0005 display\n",
      "\n",
      "==============\n",
      "{201: ['kruthi', '17/12/2005', 'ceo'], 202: ['krishna', '12/12/2012', 'sde']}\n",
      "====employee database====\n",
      "1 create\n",
      " 2 add \n",
      " 3 search \n",
      " 4 delete \u0005 display\n",
      "\n",
      "==============\n"
     ]
    },
    {
     "ename": "ValueError",
     "evalue": "invalid literal for int() with base 10: ''",
     "output_type": "error",
     "traceback": [
      "\u001b[0;31m---------------------------------------------------------------------------\u001b[0m",
      "\u001b[0;31mValueError\u001b[0m                                Traceback (most recent call last)",
      "Cell \u001b[0;32mIn[31], line 6\u001b[0m\n\u001b[1;32m      4\u001b[0m \u001b[38;5;28mprint\u001b[39m(\u001b[38;5;124m'\u001b[39m\u001b[38;5;124m1 create\u001b[39m\u001b[38;5;130;01m\\n\u001b[39;00m\u001b[38;5;124m 2 add \u001b[39m\u001b[38;5;130;01m\\n\u001b[39;00m\u001b[38;5;124m 3 search \u001b[39m\u001b[38;5;130;01m\\n\u001b[39;00m\u001b[38;5;124m 4 delete \u001b[39m\u001b[38;5;130;01m\\5\u001b[39;00m\u001b[38;5;124m display\u001b[39m\u001b[38;5;130;01m\\n\u001b[39;00m\u001b[38;5;124m'\u001b[39m)\n\u001b[1;32m      5\u001b[0m \u001b[38;5;28mprint\u001b[39m(\u001b[38;5;124m'\u001b[39m\u001b[38;5;124m==============\u001b[39m\u001b[38;5;124m'\u001b[39m)\n\u001b[0;32m----> 6\u001b[0m choice\u001b[38;5;241m=\u001b[39m\u001b[38;5;28;43mint\u001b[39;49m\u001b[43m(\u001b[49m\u001b[38;5;28;43minput\u001b[39;49m\u001b[43m(\u001b[49m\u001b[38;5;124;43m'\u001b[39;49m\u001b[38;5;124;43menter the choice\u001b[39;49m\u001b[38;5;124;43m'\u001b[39;49m\u001b[43m)\u001b[49m\u001b[43m)\u001b[49m\n\u001b[1;32m      7\u001b[0m \u001b[38;5;28;01mif\u001b[39;00m choice\u001b[38;5;241m==\u001b[39m\u001b[38;5;241m1\u001b[39m:\n\u001b[1;32m      8\u001b[0m     n\u001b[38;5;241m=\u001b[39m\u001b[38;5;28mint\u001b[39m(\u001b[38;5;28minput\u001b[39m(\u001b[38;5;124m'\u001b[39m\u001b[38;5;124menter number of employees\u001b[39m\u001b[38;5;124m'\u001b[39m))\n",
      "\u001b[0;31mValueError\u001b[0m: invalid literal for int() with base 10: ''"
     ]
    }
   ],
   "source": [
    "employee=dict()\n",
    "while True:\n",
    "    print('====employee database====')\n",
    "    print('1 create\\n 2 add \\n 3 search \\n 4 delete \\5 display\\n')\n",
    "    print('==============')\n",
    "    choice=int(input('enter the choice'))\n",
    "    if choice==1:\n",
    "        n=int(input('enter number of employees'))\n",
    "        for i in range(n):\n",
    "          print(\"===========\")\n",
    "          print(\"enter employee{0}\".format(i+1))\n",
    "          print(\"==============\")\n",
    "          empid=int(input('enter emp id'))\n",
    "          empdetails=[]\n",
    "          empname=input('name:')\n",
    "          empdob=input(\"dob\")\n",
    "          designation=input(\"enter designation\")\n",
    "          empdetails.append(empname)\n",
    "          empdetails.append(empdob)\n",
    "          empdetails.append(designation)\n",
    "          employee[empid]=empdetails\n",
    "          print('============')\n",
    "    elif choice==2:\n",
    "       empid=int(input(\"enter the emp id to add\"))\n",
    "       empdetails=[]\n",
    "       empname=input(\"name\")\n",
    "       empdob=input(\"dob\")\n",
    "       designation=input('enter designation')\n",
    "       empdetails.append(empname)\n",
    "       empdetails.append(empdob)\n",
    "       empdetails.append(designation)\n",
    "       employee[empid]=empdetails\n",
    "       print('==============')\n",
    "    elif choice==3:\n",
    "       eids=int(input(\"enter id to search\"))\n",
    "       print(employee.get(eids))\n",
    "    elif choice==4:\n",
    "       eids=int(input(\"enter employee to delete\"))\n",
    "       print(employee.pop(eids))\n",
    "    elif choice==5:\n",
    "       status=bool(employee)\n",
    "       if status==False:\n",
    "          print('\\n no employee found to print')\n",
    "       else:\n",
    "          print(employee)\n",
    "    else:\n",
    "       print('invalid')\n",
    "       break"
   ]
  },
  {
   "cell_type": "code",
   "execution_count": 35,
   "metadata": {},
   "outputs": [
    {
     "name": "stdout",
     "output_type": "stream",
     "text": [
      "list: [1, 3]\n",
      "==========menu===============\n",
      "1.insert at specific position \n",
      " 2.REMOVE VALUE FROM LIST \n",
      " 3.adding elements to list \n",
      "4.display list \n",
      "5. exit \n",
      "\n",
      "\n",
      "======list content========\n",
      "[1, 3]\n",
      "==========menu===============\n",
      "1.insert at specific position \n",
      " 2.REMOVE VALUE FROM LIST \n",
      " 3.adding elements to list \n",
      "4.display list \n",
      "5. exit \n",
      "\n",
      "exiting.....\n"
     ]
    }
   ],
   "source": [
    "#insert missing values meaning LIST\n",
    "numbers=[]\n",
    "n=int(input('enter the size of list'))\n",
    "while True:\n",
    "    if n>0:\n",
    "        i=int(input('enter the elements to insert'))\n",
    "        numbers.append(i)\n",
    "        n=n-1\n",
    "    else:\n",
    "        break\n",
    "print(\"list:\",numbers)\n",
    "while True:\n",
    "    print(\"==========menu===============\")\n",
    "    print(\"1.insert at specific position \\n 2.REMOVE VALUE FROM LIST \\n 3.adding elements to list \\n4.display list \\n5. exit \\n\")\n",
    "    choice=int(input(\"enter the choice\"))\n",
    "    if(choice==1):\n",
    "        pos=int(input('enter the posn to insert'))\n",
    "        item=int(input(\"enter item to insert at the given position\"))\n",
    "        numbers.insert(pos,item)\n",
    "    elif (choice==2):\n",
    "        pos=int(input(\"enter position to delete\"))\n",
    "        numbers.pop(pos)\n",
    "    elif (choice==3):\n",
    "        item=int(input(\"enter item to add\"))\n",
    "        numbers.append(item)\n",
    "    elif (choice==4):\n",
    "        print('\\n======list content========')\n",
    "        print(numbers)\n",
    "    elif (choice==5):\n",
    "        print(\"exiting.....\")\n",
    "        break\n",
    "\n",
    "\n",
    "\n",
    "\n",
    "    \n"
   ]
  },
  {
   "cell_type": "code",
   "execution_count": 42,
   "metadata": {},
   "outputs": [
    {
     "name": "stdout",
     "output_type": "stream",
     "text": [
      "entered paragraph\n",
      "NEW DEL IS THE CAPITAL OF INDIA, BLR IS THE CAPITAL OF KTAKA, KTAKA IS IN INDIA, INDIA IS WORLD'S LARGEST DEMOCRACY\n",
      "total no of words 22\n",
      "NEW 1\n",
      "DEL 1\n",
      "IS 4\n",
      "THE 2\n",
      "CAPITAL 2\n",
      "OF 2\n",
      "INDIA, 2\n",
      "BLR 1\n",
      "KTAKA, 1\n",
      "KTAKA 1\n",
      "IN 1\n",
      "INDIA 1\n",
      "WORLD'S 1\n",
      "LARGEST 1\n",
      "DEMOCRACY 1\n",
      "NEWWord found in paragraph\n"
     ]
    }
   ],
   "source": [
    "#read para and count the no of words,frequency of words appearing and search for spec word\n",
    "str='''NEW DEL IS THE CAPITAL OF INDIA, BLR IS THE CAPITAL OF KTAKA, KTAKA IS IN INDIA, INDIA IS WORLD'S LARGEST DEMOCRACY'''\n",
    "print('entered paragraph\\n'+str)\n",
    "wordC=len(str.split())\n",
    "print('total no of words',wordC)\n",
    "counts=dict()\n",
    "words=str.split()\n",
    "for word in words:\n",
    "    if word in counts:\n",
    "        counts[word]= counts[word]+1\n",
    "    else:\n",
    "        counts[word]=1\n",
    "for word in counts:\n",
    "    print(word,counts[word])\n",
    "searchWord=input(\"\\nEnter the word to search: \")\n",
    "result= str.find(searchWord)\n",
    "if(result!= -1):\n",
    "    print(searchWord+ \"Word found in paragraph\")\n",
    "else:\n",
    "    print(searchWord+ \"!!!!!Word not found in paragraph\")"
   ]
  },
  {
   "cell_type": "code",
   "execution_count": 46,
   "metadata": {},
   "outputs": [
    {
     "name": "stdout",
     "output_type": "stream",
     "text": [
      "series are [0, 1, 1]\n",
      "series are [0, 1, 1, 2]\n",
      "series are [0, 1, 1, 2, 3]\n",
      "series are [0, 1, 1, 2, 3, 5]\n",
      "series are [0, 1, 1, 2, 3, 5, 8]\n",
      "series are [0, 1, 1, 2, 3, 5, 8, 13]\n",
      "series are [0, 1, 1, 2, 3, 5, 8, 13, 21]\n",
      "gratio [2.0, 3.0, 5.0, 8.0, 13.0, 21.0, 34.0]\n"
     ]
    }
   ],
   "source": [
    "#golden ratio\n",
    "n=int(input('enter the number of series'))\n",
    "fiblist=[0,1]\n",
    "for i in range(0,n):\n",
    "    fiblist.append(fiblist[i]+fiblist[i+1])\n",
    "    print('series are',fiblist)\n",
    "gratio=[(fiblist[i]+float(fiblist[i-1])) for i in range(2,len(fiblist))]\n",
    "print('gratio',gratio)\n"
   ]
  },
  {
   "cell_type": "code",
   "execution_count": 47,
   "metadata": {},
   "outputs": [
    {
     "name": "stdout",
     "output_type": "stream",
     "text": [
      "N: 39.0\n",
      "max prime factor 13\n"
     ]
    }
   ],
   "source": [
    "#largest prime factor\n",
    "n=int(input('enter number'))\n",
    "maxPrime=-1\n",
    "while n%2==0:\n",
    "    maxPrime=n\n",
    "    n=n/2\n",
    "    print(\"N:\",n)\n",
    "for i in range(3,int(n**0.5)+1,2):\n",
    "    while n%i==0:\n",
    "        maxPrime=i\n",
    "        n=n/i\n",
    "if n>2:\n",
    "    maxPrime=n\n",
    "print(\"max prime factor\", int(maxPrime))\n"
   ]
  },
  {
   "cell_type": "code",
   "execution_count": 49,
   "metadata": {},
   "outputs": [
    {
     "name": "stdout",
     "output_type": "stream",
     "text": [
      "time 1.875 sec\n",
      "height is 2101.6613260376507 feet\n",
      "total height 2106.6613260376507 feet\n"
     ]
    }
   ],
   "source": [
    "#height of ball thrown basketball player\n",
    "a=-16\n",
    "b=int(input('enter velocity'))\n",
    "pHT=float(input(\"enter player ht\"))\n",
    "t=float(-b/(2*a))\n",
    "print('time',t,\"sec\")\n",
    "h=(a*(t**2))+(b**t)\n",
    "print(\"height is\",h,\"feet\")\n",
    "h=h+pHT\n",
    "print(\"total height\",h,\"feet\")"
   ]
  },
  {
   "cell_type": "code",
   "execution_count": 51,
   "metadata": {},
   "outputs": [
    {
     "name": "stdout",
     "output_type": "stream",
     "text": [
      "   December 2005\n",
      "Mo Tu We Th Fr Sa Su\n",
      "          1  2  3  4\n",
      " 5  6  7  8  9 10 11\n",
      "12 13 14 15 16 17 18\n",
      "19 20 21 22 23 24 25\n",
      "26 27 28 29 30 31\n",
      "\n"
     ]
    }
   ],
   "source": [
    "#calendar print\n",
    "import calendar\n",
    "YEAR=int(input(\"enter the year\"))\n",
    "MONTH=int(input(\"enter month\"))\n",
    "print(calendar.month(YEAR,MONTH))"
   ]
  },
  {
   "cell_type": "code",
   "execution_count": 57,
   "metadata": {},
   "outputs": [
    {
     "name": "stdout",
     "output_type": "stream",
     "text": [
      "the character assoc with ascii valuestr(ASCII_VALUE)is A\n"
     ]
    }
   ],
   "source": [
    "#print character from corresp ASCII VALUE\n",
    "ASCII_VALUE=int(input(\"enter the ascii value\"))\n",
    "print(\"the character assoc with ascii value\"+\"str(ASCII_VALUE)\"+'is',chr(ASCII_VALUE))\n"
   ]
  },
  {
   "cell_type": "code",
   "execution_count": 58,
   "metadata": {},
   "outputs": [
    {
     "name": "stdout",
     "output_type": "stream",
     "text": [
      "the ascii valueuis 117\n"
     ]
    }
   ],
   "source": [
    "#find ascii value of a given character\n",
    "char=input('enter a character')\n",
    "print('the ascii value'+ char+'is',ord(char))"
   ]
  }
 ],
 "metadata": {
  "kernelspec": {
   "display_name": "Python 3",
   "language": "python",
   "name": "python3"
  },
  "language_info": {
   "codemirror_mode": {
    "name": "ipython",
    "version": 3
   },
   "file_extension": ".py",
   "mimetype": "text/x-python",
   "name": "python",
   "nbconvert_exporter": "python",
   "pygments_lexer": "ipython3",
   "version": "3.13.1"
  }
 },
 "nbformat": 4,
 "nbformat_minor": 2
}
