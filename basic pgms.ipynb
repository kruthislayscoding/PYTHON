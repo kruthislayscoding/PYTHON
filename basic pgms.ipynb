{
 "cells": [
  {
   "cell_type": "code",
   "execution_count": null,
   "metadata": {},
   "outputs": [
    {
     "name": "stdout",
     "output_type": "stream",
     "text": [
      "the area of triangle with sides 3.0,3.0,3.0 and semi perm 4.5 is 3.897114317029974\n"
     ]
    }
   ],
   "source": [
    "#AREA OF TRIANGLE\n",
    "a=float(input(\"enter the first side\"))\n",
    "b=float(input('enter the second side'))\n",
    "c=float(input('enter the third side'))\n",
    "s=((a+b+c)/2)\n",
    "area=(s*(s-a)*(s-b)*(s-c))**0.5\n",
    "print(\"the area of triangle with sides {0},{1},{2} and semi perm {3} is {4}\".format(a,b,c,semi_perm,area))"
   ]
  },
  {
   "cell_type": "code",
   "execution_count": 4,
   "metadata": {},
   "outputs": [
    {
     "name": "stdout",
     "output_type": "stream",
     "text": [
      "the sum of 10 and 10 is20\n"
     ]
    }
   ],
   "source": [
    "#ADD TWO NUMBERS WITH USER INPUT:\n",
    "num1=int(input(\"enter the first number\"))\n",
    "num2=int(input('enter the second number'))\n",
    "sum=num1+num2\n",
    "print(\"the sum of {0} and {1} is{2}\".format(num1,num2,sum))\n"
   ]
  },
  {
   "cell_type": "code",
   "execution_count": 5,
   "metadata": {},
   "outputs": [
    {
     "name": "stdout",
     "output_type": "stream",
     "text": [
      "the square root of 299.0 is 17.291616465790582\n"
     ]
    }
   ],
   "source": [
    "#CALCULATE SQ ROOT\n",
    "num1=float(input(\"enter the number you want to find sq root of\"))\n",
    "sqrt_num=num1**0.5\n",
    "print(\"the square root of {0} is {1}\".format(num1,sqrt_num))"
   ]
  },
  {
   "cell_type": "code",
   "execution_count": 6,
   "metadata": {},
   "outputs": [
    {
     "name": "stdout",
     "output_type": "stream",
     "text": [
      "the square root of (19+23j) is 4.941+2.327j\n"
     ]
    }
   ],
   "source": [
    "#SQUARE ROOT OF COMPLEX NUMBER:\n",
    "#gotta import cmath for calculating sq root of such numbers\n",
    "import cmath\n",
    "num=eval(input(\"enter the complex number whose sq root you wanna find\"))\n",
    "num_sqrt=cmath.sqrt(num)#important to write cmath as sqrt is under it\n",
    "print(\"the square root of {0} is {1:0.3f}+{2:0.3f}j\".format(num,num_sqrt.real,num_sqrt.imag))"
   ]
  },
  {
   "cell_type": "code",
   "execution_count": 7,
   "metadata": {},
   "outputs": [
    {
     "name": "stdout",
     "output_type": "stream",
     "text": [
      "938\n"
     ]
    }
   ],
   "source": [
    "#RANDOM NUMBER\n",
    "import random\n",
    "print(random.randint(0,1000))"
   ]
  },
  {
   "cell_type": "code",
   "execution_count": 9,
   "metadata": {},
   "outputs": [
    {
     "name": "stdout",
     "output_type": "stream",
     "text": [
      "the solution of quadratic equation are (-1-1.7320508075688772j),(-1+1.7320508075688772j)\n"
     ]
    }
   ],
   "source": [
    "#SOLVING QUADRATIC EQUATION\n",
    "import cmath\n",
    "a=1\n",
    "b=2\n",
    "c=4\n",
    "desc=((b**2)-(4*a*c))\n",
    "sol1=(-b-cmath.sqrt(desc))/(2*a)\n",
    "sol2=(-b+cmath.sqrt(desc))/(2*a)\n",
    "print('the solution of quadratic equation are {0},{1}'.format(sol1,sol2))"
   ]
  },
  {
   "cell_type": "code",
   "execution_count": 14,
   "metadata": {},
   "outputs": [
    {
     "name": "stdout",
     "output_type": "stream",
     "text": [
      "the value of a after swapping is 3\n",
      "the value of b after swapping is 2\n"
     ]
    }
   ],
   "source": [
    "#SWAP TWO NUMBERS USING A TEMPORARY VARIABLE\n",
    "a=2\n",
    "b=3\n",
    "temp=a\n",
    "a=b\n",
    "b=temp\n",
    "print('the value of a after swapping is {}'.format(a))\n",
    "print('the value of b after swapping is {}'.format(b))"
   ]
  },
  {
   "cell_type": "code",
   "execution_count": null,
   "metadata": {},
   "outputs": [],
   "source": [
    "#SWAP WITHOUT TEMP VARIABLE"
   ]
  }
 ],
 "metadata": {
  "kernelspec": {
   "display_name": "Python 3",
   "language": "python",
   "name": "python3"
  },
  "language_info": {
   "codemirror_mode": {
    "name": "ipython",
    "version": 3
   },
   "file_extension": ".py",
   "mimetype": "text/x-python",
   "name": "python",
   "nbconvert_exporter": "python",
   "pygments_lexer": "ipython3",
   "version": "3.13.1"
  }
 },
 "nbformat": 4,
 "nbformat_minor": 2
}
