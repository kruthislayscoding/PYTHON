{
 "cells": [
  {
   "cell_type": "code",
   "execution_count": null,
   "metadata": {},
   "outputs": [
    {
     "name": "stdout",
     "output_type": "stream",
     "text": [
      "31 is a prime number\n"
     ]
    }
   ],
   "source": [
    "#PROGRAM TO CHECK A NUMBER IS PRIME OR NOT\n",
    "#LOGIC IS ASSIGN A FLAG VARIABLE ASSIGN TO FALSE FIRST \n",
    "#THEN YK PRIME NUMBER ARE GREATER THAN 1 THEN NESTED FOR LOOP CHECKING IN RANGE 2 to num\n",
    "#if num/i ==0 (factor is found) then FLAG IS TRUE BREAK OUT OF LOOP\n",
    "#NEXT PRINT OUTPUT IF FLAG TRUE NOT PRIME (COMPOSITE AS IT HAS FACTORS)\n",
    "#FLAG FALSE THEN PRIME NUMBER\n",
    "num=int(input('enter a number:'))\n",
    "flag=False\n",
    "if num>1:\n",
    "    for i in range(2,num):\n",
    "     if (num/i)==0:\n",
    "        flag=True\n",
    "        break\n",
    "if flag:\n",
    "   print(num,\"is not a prime number\")\n",
    "else:\n",
    "   print(num, \"is a prime number\")\n",
    "   "
   ]
  },
  {
   "cell_type": "code",
   "execution_count": 45,
   "metadata": {},
   "outputs": [
    {
     "name": "stdout",
     "output_type": "stream",
     "text": [
      "fibonacci series\n",
      "0\n",
      "0\n",
      "1\n",
      "1\n",
      "2\n",
      "3\n",
      "5\n",
      "8\n",
      "13\n",
      "21\n"
     ]
    }
   ],
   "source": [
    "#FIBONACCI SERIES UPTO NTH TERM LOGIC 3 CASES AGAIN IF ELIF ELSE\n",
    "# FIRST INPUT N= HOW MANY TERMS, THEN JUST ASSIGN FIRST TWO TERMS N1 AND N2 TO 0 AND 1 RESPECTIVELY\n",
    "#COUNT TO 0 FIXED THEN CASE1: CHECK IF N IS VALID IF <0 OR =0 THEN ASK USER TO ENTER +VE NUMBER\n",
    "#CASE2:IF N=1, THEN ASK IT TO PRINT N1\n",
    "#CASE3:PRINT SEQUENCE IS,THEN WHILE LOOP COUNT<N, PRINT N1\n",
    "#THEN NTH=N1+N2, KEEP UPDATING VALUES N1=N2, N2=NTH COUNT+=1\n",
    "num=int(input(\"how many terms\"))\n",
    "count=0\n",
    "n1,n2=0,1\n",
    "if num<=0:\n",
    "    print(\"please eter positive number\")\n",
    "elif num==1:\n",
    "    print('fibonacci series upto',n,\";\")\n",
    "    print(n1)\n",
    "else:\n",
    "    print(\"fibonacci series\")\n",
    "    print(n1)\n",
    "    while count<num:\n",
    "        print(n1)\n",
    "        nth=n1+n2\n",
    "        n1=n2\n",
    "        n2=nth\n",
    "        count+=1"
   ]
  },
  {
   "cell_type": "code",
   "execution_count": 42,
   "metadata": {},
   "outputs": [
    {
     "name": "stdout",
     "output_type": "stream",
     "text": [
      "11 x 1 = 11\n",
      "11 x 2 = 22\n",
      "11 x 3 = 33\n",
      "11 x 4 = 44\n",
      "11 x 5 = 55\n",
      "11 x 6 = 66\n",
      "11 x 7 = 77\n",
      "11 x 8 = 88\n",
      "11 x 9 = 99\n",
      "11 x 10 = 110\n"
     ]
    }
   ],
   "source": [
    "#PRINT THE MULTIPLICATION TABLE 1 TO 10 \n",
    "#LOGIC ASK TABLE OF WHICH NUMBER WANTED THEN ITERATE 10 TIMES AS 1 TO 10 IN QN\n",
    "#FROM RANGE 1 TO 11, as 10 times (10+1) iteration PRINT NUM, X SYMBOL,=,NUM*I\n",
    "num=int(input(\"enter the number of the table you want\"))\n",
    "for i in range(1,11):\n",
    "    print(num,\"x\",i,\"=\",num*i)"
   ]
  },
  {
   "cell_type": "code",
   "execution_count": null,
   "metadata": {},
   "outputs": [
    {
     "name": "stdout",
     "output_type": "stream",
     "text": [
      "factorial of 5 is 120\n"
     ]
    }
   ],
   "source": [
    "#FACTORIAL OF A NUMBER= 3 CASES USE IF ELIF ELSE\n",
    "#LOGIC INITIALLY ASK USER TO ENTER A NUMBER ASSIGN FACTORIAL =1 COMPULSORY\n",
    "#CHECK IF NUM IS POSITIVE/-VE/0, CASE1:IF LESS THAN 0 DOESNT EXIST,CASE2; IF 0 FACTORIAL=1\n",
    "#CASE3:MORE THAN 0 FOR LOOP IN RANGE 1 TO NUM+1, FACT=FACT*I \n",
    "num=int(input(\"enter a number\"))\n",
    "factorial=1\n",
    "\n",
    "if num<0:\n",
    "    print(\"factorial of {} doesnt exist\".format(num))\n",
    "elif num==0:\n",
    "    print(\"factorial of 0 is 1\")\n",
    "else:\n",
    "    for i in range(1,num+1):\n",
    "        factorial=factorial*i\n",
    "    print(\"factorial of\",num,\"is\",factorial)"
   ]
  },
  {
   "cell_type": "code",
   "execution_count": 48,
   "metadata": {},
   "outputs": [
    {
     "name": "stdout",
     "output_type": "stream",
     "text": [
      "153 is an armstrong number\n"
     ]
    }
   ],
   "source": [
    "#ARMSTRONG NUMBER LOGIC \n",
    "#SUM=0 FIRSTLY,THEN GOTTS FIND SUM OF CUBE OF EACH DIGIT IN THE NUMBER U ASKED\n",
    "# TO DO THAT TEMP=NUM, WHILE TEMP>0, EXTRACT DIGITS BY PLACE VALUE\n",
    "#DIGIT=TEMP%10, SUM+=DIGIT**3 CUBING THEN ONCE PLACE VALUE TEMP//=10\n",
    "#DISPLAY RESULT IF NUM==SUM, PRINT ARMSTRONG ELSE NOT\n",
    "num=int(input(\"enter a number to check if armstrong no or not\"))\n",
    "sum=0\n",
    "temp=num\n",
    "while temp>0:\n",
    "    digit=temp%10\n",
    "    sum+=digit**3\n",
    "    temp//=10\n",
    "if num==sum:\n",
    "    print(num,\"is an armstrong number\")\n",
    "else:\n",
    "     print(num,\"is NOT an armstrong number\")\n"
   ]
  },
  {
   "cell_type": "code",
   "execution_count": 51,
   "metadata": {},
   "outputs": [
    {
     "name": "stdout",
     "output_type": "stream",
     "text": [
      "it is a palindrome\n"
     ]
    }
   ],
   "source": [
    "#PALINDROME LOGIC TO CHEK IF A STRING IS PALINDROME OF NOT\n",
    "#FIRST ASSIGN A STRING TO VAR(MY_STR) MAKE IT LIKE ANNA\n",
    "#THEN VAR=BAR.CASEFOLD()#DK WHY but next rev the string\n",
    "#REV_STR=REVERSED(MY_STR)\n",
    "#then check if str = reverse, where list(my_str)==list(rev_str)\n",
    "#else print not palindrome\n",
    "my_str=\"ANNA\"\n",
    "my_str=my_str.casefold()\n",
    "rev_str=reversed(my_str)\n",
    "if list(my_str)==list(rev_str):#dont forget LIST\n",
    "    print(\"it is a palindrome\")\n",
    "else:\n",
    "    print(\"not a palindrome\")\n"
   ]
  },
  {
   "cell_type": "code",
   "execution_count": 54,
   "metadata": {},
   "outputs": [
    {
     "name": "stdout",
     "output_type": "stream",
     "text": [
      "raceandcareare anagram\n"
     ]
    }
   ],
   "source": [
    "#Python Program to Check If Two STRINGS ARE ANAGRAM\n",
    "#LOGIC IS 1ST STEP IS TO CONVERT BOTH INTO LOWERCASE THEN CHECK IF LENGTH IS SAME\n",
    "#check len of both are same then SORT THOSE STRINGS BOTH, SORTED_STR1=SORTED(STR1)\n",
    "#next checking ifH sorted str 1== sorted str2 print str1+ \" and\" \"+str2+\" are anagram\n",
    "#else not anagram twice inside if and outside\n",
    "str1=\"Race\"\n",
    "str2=\"Care\"\n",
    "str1=str1.lower()\n",
    "str2=str2.lower()\n",
    "if (len(str1))==(len(str2)):\n",
    "    sorted_str1=sorted(str1)\n",
    "    sorted_str2=sorted(str2)\n",
    "    if(sorted_str1==sorted_str2):\n",
    "      print(str1+\"and\"+str2+\"are anagram\" )#concatenation\n",
    "    else:\n",
    "      print(str1+\"and\"+str2+\"are NOT anagram\" )\n",
    "else:\n",
    "    print(str1+ \"and\"+ str2 +\"are NOT anagram\" )\n",
    "\n",
    "\n",
    "\n",
    "\n",
    "\n"
   ]
  },
  {
   "cell_type": "code",
   "execution_count": 41,
   "metadata": {},
   "outputs": [
    {
     "name": "stdout",
     "output_type": "stream",
     "text": [
      "the area of triangle with sides 7.0,9.0,9.0 and semi perm 12.5 is 29.02046691560975\n"
     ]
    }
   ],
   "source": [
    "#AREA OF TRIANGLE\n",
    "a=float(input(\"enter the first side\"))\n",
    "b=float(input('enter the second side'))\n",
    "c=float(input('enter the third side'))\n",
    "s=((a+b+c)/2)\n",
    "area=(s*(s-a)*(s-b)*(s-c))**0.5\n",
    "print(\"the area of triangle with sides {0},{1},{2} and semi perm {3} is {4}\".format(a,b,c,s,area))"
   ]
  },
  {
   "cell_type": "code",
   "execution_count": null,
   "metadata": {},
   "outputs": [
    {
     "name": "stdout",
     "output_type": "stream",
     "text": [
      "the sum of 10 and 10 is20\n"
     ]
    }
   ],
   "source": [
    "#ADD TWO NUMBERS WITH USER INPUT:\n",
    "num1=int(input(\"enter the first number\"))\n",
    "num2=int(input('enter the second number'))\n",
    "sum=num1+num2\n",
    "print(\"the sum of {0} and {1} is{2}\".format(num1,num2,sum))\n"
   ]
  },
  {
   "cell_type": "code",
   "execution_count": null,
   "metadata": {},
   "outputs": [
    {
     "name": "stdout",
     "output_type": "stream",
     "text": [
      "the square root of 299.0 is 17.291616465790582\n"
     ]
    }
   ],
   "source": [
    "#CALCULATE SQ ROOT\n",
    "num1=float(input(\"enter the number you want to find sq root of\"))\n",
    "sqrt_num=num1**0.5\n",
    "print(\"the square root of {0} is {1}\".format(num1,sqrt_num))"
   ]
  },
  {
   "cell_type": "code",
   "execution_count": null,
   "metadata": {},
   "outputs": [
    {
     "name": "stdout",
     "output_type": "stream",
     "text": [
      "the square root of (19+23j) is 4.941+2.327j\n"
     ]
    }
   ],
   "source": [
    "#SQUARE ROOT OF COMPLEX NUMBER:\n",
    "#gotta import cmath for calculating sq root of such numbers\n",
    "import cmath\n",
    "num=eval(input(\"enter the complex number whose sq root you wanna find\"))\n",
    "num_sqrt=cmath.sqrt(num)#important to write cmath as sqrt is under it\n",
    "print(\"the square root of {0} is {1:0.3f}+{2:0.3f}j\".format(num,num_sqrt.real,num_sqrt.imag))"
   ]
  },
  {
   "cell_type": "code",
   "execution_count": null,
   "metadata": {},
   "outputs": [
    {
     "name": "stdout",
     "output_type": "stream",
     "text": [
      "938\n"
     ]
    }
   ],
   "source": [
    "#RANDOM NUMBER\n",
    "import random\n",
    "print(random.randint(0,1000))"
   ]
  },
  {
   "cell_type": "code",
   "execution_count": null,
   "metadata": {},
   "outputs": [
    {
     "name": "stdout",
     "output_type": "stream",
     "text": [
      "the solution of quadratic equation are (-1-1.7320508075688772j),(-1+1.7320508075688772j)\n"
     ]
    }
   ],
   "source": [
    "#SOLVING QUADRATIC EQUATION\n",
    "import cmath\n",
    "a=1\n",
    "b=2\n",
    "c=4\n",
    "desc=((b**2)-(4*a*c))\n",
    "sol1=(-b-cmath.sqrt(desc))/(2*a)\n",
    "sol2=(-b+cmath.sqrt(desc))/(2*a)\n",
    "print('the solution of quadratic equation are {0},{1}'.format(sol1,sol2))"
   ]
  },
  {
   "cell_type": "code",
   "execution_count": null,
   "metadata": {},
   "outputs": [
    {
     "name": "stdout",
     "output_type": "stream",
     "text": [
      "the value of a after swapping is 3\n",
      "the value of b after swapping is 2\n"
     ]
    }
   ],
   "source": [
    "#SWAP TWO NUMBERS USING A TEMPORARY VARIABLE\n",
    "a=2\n",
    "b=3\n",
    "temp=a\n",
    "a=b\n",
    "b=temp\n",
    "print('the value of a after swapping is {}'.format(a))\n",
    "print('the value of b after swapping is {}'.format(b))"
   ]
  },
  {
   "cell_type": "code",
   "execution_count": null,
   "metadata": {},
   "outputs": [
    {
     "name": "stdout",
     "output_type": "stream",
     "text": [
      "the numbers after swapping are 12 and 17\n"
     ]
    }
   ],
   "source": [
    "#SWAP WITHOUT TEMP VARIABLE\n",
    "a=int(input(\"enter the first number\"))\n",
    "b=int(input(\"enter the second number\"))\n",
    "a,b=b,a#single assignement operator\n",
    "print(\"the numbers after swapping are {0} and {1}\".format(a,b))"
   ]
  },
  {
   "cell_type": "code",
   "execution_count": null,
   "metadata": {},
   "outputs": [
    {
     "name": "stdout",
     "output_type": "stream",
     "text": [
      "number is negative\n"
     ]
    }
   ],
   "source": [
    "#Check if a Number is Positive, Negative or 0 using if elif if\n",
    "num=int(input(\"enter a number to check\"))\n",
    "if num>0:\n",
    "    print('number is positive')\n",
    "elif num==0:\n",
    "    print('number is 0')\n",
    "else:\n",
    "    print('number is negative')"
   ]
  },
  {
   "cell_type": "code",
   "execution_count": null,
   "metadata": {},
   "outputs": [
    {
     "name": "stdout",
     "output_type": "stream",
     "text": [
      "the number is zero\n"
     ]
    }
   ],
   "source": [
    "#Check if a Number is Positive, Negative or 0 using NESTED IF\n",
    "num=int(input(\"enter a number to check\"))\n",
    "if num>=0:\n",
    "    if num==0:\n",
    "       print('the number is zero')\n",
    "    else:\n",
    "        print('positive number')\n",
    "else:\n",
    "    print('its a negative number')"
   ]
  },
  {
   "cell_type": "code",
   "execution_count": null,
   "metadata": {},
   "outputs": [
    {
     "name": "stdout",
     "output_type": "stream",
     "text": [
      "number is odd\n"
     ]
    }
   ],
   "source": [
    "#program to find if number is odd or even\n",
    "num=int(input(\"enter the number you wanna check\"))\n",
    "if (num%2)==0:#remainder not quotient\n",
    "    print(\"number is even\")\n",
    "else:\n",
    "    print(\"number is odd\")"
   ]
  },
  {
   "cell_type": "code",
   "execution_count": null,
   "metadata": {},
   "outputs": [
    {
     "name": "stdout",
     "output_type": "stream",
     "text": [
      "3 is the largest number out of 2,2,3\n"
     ]
    }
   ],
   "source": [
    "#LARGEST AMONG 3 NUMBERS YOU GOTTA USE IF ELIF ELSE\n",
    "n1=int(input('enter the first number'))\n",
    "n2=int(input('enter the second number'))\n",
    "n3=int(input('enter the third number'))\n",
    "if (n1>n2) and (n1>n3):\n",
    "    print('{0} is the largest number out of {1},{2},{3}'.format(n1,n1,n2,n3))\n",
    "elif (n2>n3) and (n2>n1):\n",
    "    print('{0} is the largest number out of {1},{2},{3}'.format(n2,n1,n2,n3))\n",
    "else:\n",
    "    print('{0} is the largest number out of {1},{2},{3}'.format(n3,n1,n2,n3))"
   ]
  },
  {
   "cell_type": "code",
   "execution_count": null,
   "metadata": {},
   "outputs": [
    {
     "name": "stdout",
     "output_type": "stream",
     "text": [
      "no 2023 is not a leap year\n"
     ]
    }
   ],
   "source": [
    "#CHECK LEAP YEAR YOU GOTTA USE IF ELIF ELSE\n",
    "#CASE 1 divided by 100 means century year (ending with 00)AND century year divided by 400 is leap year\n",
    "#CASE 2 not divided by 100 means not a century year year divided by 4 is a leap year\n",
    "#CASE 3 if not divided by both 400 (century year) and 4 (not century year)\n",
    "# year is not leap year\n",
    "year=int(input('enter the year you want to check if leap year or not'))\n",
    "if (year%100)==0 and (year%400)==0:\n",
    "    print('yes {0} is a leap year'.format(year))\n",
    "elif (year%100)!=0 and (year%4)==0:\n",
    "    print('yes {0} is a leap year'.format(year))\n",
    "else:\n",
    "    print('no {0} is not a leap year'.format(year))\n",
    "\n"
   ]
  },
  {
   "cell_type": "code",
   "execution_count": 58,
   "metadata": {},
   "outputs": [
    {
     "name": "stdout",
     "output_type": "stream",
     "text": [
      "654321\n",
      "reversed num is654321\n"
     ]
    }
   ],
   "source": [
    "#PROGRAM TO REVERSE A NUMBER:\n",
    "#ONE WAY IS STRING SLICING\n",
    "num=123456\n",
    "print(str(num)[::-1])\n",
    "#SECOND WAY IS USING WHILE LOOP\n",
    "num=123456\n",
    "rev_num=0\n",
    "while num!=0:\n",
    "    digit=num%10\n",
    "    rev_num=rev_num*10+digit\n",
    "    num//=10\n",
    "print(\"reversed num is\" +str(rev_num))\n"
   ]
  },
  {
   "cell_type": "code",
   "execution_count": 60,
   "metadata": {},
   "outputs": [
    {
     "name": "stdout",
     "output_type": "stream",
     "text": [
      "*\n",
      "\n",
      "**\n",
      "\n",
      "***\n",
      "\n",
      "****\n",
      "\n",
      "*****\n",
      "\n",
      "******\n",
      "\n",
      "*******\n",
      "\n",
      "********\n",
      "\n",
      "*********\n",
      "\n"
     ]
    }
   ],
   "source": [
    "#Python Program to Create PyramidPatterns Example 1: Program to print half pyramid using *\n",
    "rows=int(input(\"enter no of rows\"))\n",
    "for i in range(rows):\n",
    "    for j in range(i+1):\n",
    "        print(\"*\",end=\"\")\n",
    "    print(\"\\n\")#gotta be under for not print"
   ]
  },
  {
   "cell_type": "code",
   "execution_count": null,
   "metadata": {},
   "outputs": [
    {
     "name": "stdout",
     "output_type": "stream",
     "text": [
      "{'a': 2, 'e': 5, 'i': 3, 'o': 5, 'u': 3}\n"
     ]
    }
   ],
   "source": [
    "#COUNT NUMBER OF EACH VOWEL, logic is first create string with var vowels='aeiou'\n",
    "#then create a string your own called ip_str MAKE SURE TO IP_STR=IP_STR.CASEFOLD()\n",
    "#AS WE ARE COMPARING, WE USE THAT FN, ALSO NEXT CREATE DICT WITH EACH VOWEL A KEY AND VALUE 0\n",
    "# COUNT={}.FROMKEYS(VOWELS,0)\n",
    "#COUNT THE VOWELS USING FOR LOOP, FOR CHAR IN IPSTR, IF CHAR IN COUNT, COUNT[CHAR]+=1\n",
    "#PRINT(COUNT)\n",
    "vowels = 'aeiou'\n",
    "ip_str = 'Hello, have you tried our tutorial section yet?'\n",
    "ip_str = ip_str.casefold()\n",
    "count = {}.fromkeys(vowels,0)\n",
    "for char in ip_str:\n",
    " if char in count:\n",
    "   count[char] += 1\n",
    "print(count)\n",
    "\n",
    "\n"
   ]
  },
  {
   "cell_type": "code",
   "execution_count": 64,
   "metadata": {},
   "outputs": [
    {
     "name": "stdout",
     "output_type": "stream",
     "text": [
      "The sorted words are:\n",
      "an\n",
      "cased\n",
      "example\n",
      "hello\n",
      "is\n",
      "letters\n",
      "this\n",
      "with\n"
     ]
    }
   ],
   "source": [
    "# Program to sort alphabetically the words form a string provided by the user\n",
    "my_str = \"Hello this Is an Example With cased letters\"\n",
    "# To take input from the user\n",
    "#my_str = input(\"Enter a string: \")\n",
    "# breakdown the string into a list of words\n",
    "words = [word.lower() for word in my_str.split()]\n",
    "# sort the list\n",
    "words.sort()\n",
    "# display the sorted words\n",
    "print(\"The sorted words are:\")\n",
    "for word in words:\n",
    "  print(word)"
   ]
  },
  {
   "cell_type": "code",
   "execution_count": 65,
   "metadata": {},
   "outputs": [
    {
     "name": "stdout",
     "output_type": "stream",
     "text": [
      "Union of E and N is {0, 1, 2, 3, 4, 5, 6, 8}\n",
      "Intersection of E and N is {2, 4}\n",
      "Difference of E and N is {0, 8, 6}\n",
      "Symmetric difference of E and N is {0, 1, 3, 5, 6, 8}\n"
     ]
    }
   ],
   "source": [
    "# Program to perform different set operations like in mathematics\n",
    "# define three sets\n",
    "E = {0, 2, 4, 6, 8};\n",
    "N = {1, 2, 3, 4, 5};\n",
    "# set union\n",
    "print(\"Union of E and N is\",E | N)\n",
    "# set intersection\n",
    "print(\"Intersection of E and N is\",E & N)\n",
    "# set difference\n",
    "print(\"Difference of E and N is\",E - N)\n",
    "# set symmetric difference\n",
    "print(\"Symmetric difference of E and N is\",E ^ N)"
   ]
  },
  {
   "cell_type": "code",
   "execution_count": 67,
   "metadata": {},
   "outputs": [
    {
     "name": "stdout",
     "output_type": "stream",
     "text": [
      "0 21\n",
      "1 44\n",
      "2 35\n",
      "3 11\n"
     ]
    }
   ],
   "source": [
    "\n",
    "#Python Program to Access Index of a List Using for Loop\n",
    "my_list = [21, 44, 35, 11]\n",
    "for index, val in enumerate(my_list):\n",
    "   print(index, val)"
   ]
  },
  {
   "cell_type": "code",
   "execution_count": 70,
   "metadata": {},
   "outputs": [
    {
     "name": "stdout",
     "output_type": "stream",
     "text": [
      "stop1\n"
     ]
    }
   ],
   "source": [
    "#program to timer\n",
    "import time\n",
    "def countdown(time_sec):\n",
    "  while time_sec:\n",
    "    mins, secs = divmod(time_sec, 60)\n",
    "    timeformat = '{:02d}:{:02d}'.format(mins, secs)\n",
    "    print(timeformat, end='\\r')\n",
    "    time.sleep(1)\n",
    "    time_sec -= 1\n",
    "\n",
    "  print(\"stop\")\n",
    "countdown(5)"
   ]
  },
  {
   "cell_type": "code",
   "execution_count": 73,
   "metadata": {},
   "outputs": [
    {
     "name": "stdout",
     "output_type": "stream",
     "text": [
      "[114, 160, 60, 27]\n",
      "[74, 97, 73, 14]\n",
      "[119, 157, 112, 23]\n"
     ]
    }
   ],
   "source": [
    "#Program to multiply two matrices using nested for loops\n",
    "# 3x3 matrix\n",
    "X = [[12,7,3],\n",
    "[4 ,5,6],\n",
    "[7 ,8,9]]\n",
    "# 3x4 matrix\n",
    "Y = [[5,8,1,2],\n",
    "[6,7,3,0],\n",
    "[4,5,9,1]]\n",
    "# result is 3x4\n",
    "result = [[0,0,0,0],\n",
    "[0,0,0,0],\n",
    "[0,0,0,0]]\n",
    "# iterate through rows of X\n",
    "for i in range(len(X)):\n",
    "# iterate through columns of Y\n",
    "  for j in range(len(Y[0])):\n",
    "# iterate through rows of Y\n",
    "    for k in range(len(Y)):\n",
    "      result[i][j] += X[i][k] * Y[k][j]\n",
    "for r in result:\n",
    "  print(r)"
   ]
  },
  {
   "cell_type": "code",
   "execution_count": 75,
   "metadata": {},
   "outputs": [
    {
     "name": "stdout",
     "output_type": "stream",
     "text": [
      "[12, 4, 3]\n",
      "[7, 5, 8]\n"
     ]
    }
   ],
   "source": [
    "# Program to transpose a matrix using a nested loop\n",
    "X = [[12,7],\n",
    "[4 ,5],\n",
    "[3 ,8]]\n",
    "result = [[0,0,0],\n",
    "[0,0,0]]\n",
    "# iterate through rows\n",
    "for i in range(len(X)):\n",
    "# iterate through columns\n",
    "   for j in range(len(X[0])):\n",
    "      result[j][i] = X[i][j]\n",
    "for r in result:\n",
    "  print(r)"
   ]
  },
  {
   "cell_type": "code",
   "execution_count": 77,
   "metadata": {},
   "outputs": [
    {
     "name": "stdout",
     "output_type": "stream",
     "text": [
      "[17, 15, 4]\n",
      "[10, 12, 9]\n",
      "[11, 13, 18]\n"
     ]
    }
   ],
   "source": [
    "# Program to add two matrices using nested loop\n",
    "X = [[12,7,3],\n",
    "[4 ,5,6],\n",
    "[7 ,8,9]]\n",
    "Y = [[5,8,1],\n",
    "[6,7,3],\n",
    "[4,5,9]]\n",
    "result = [[0,0,0],\n",
    "[0,0,0],\n",
    "[0,0,0]]\n",
    "# iterate through rows\n",
    "for i in range(len(X)):\n",
    "# iterate through columns\n",
    "    for j in range(len(X[0])):\n",
    "       result[i][j] = X[i][j] + Y[i][j]\n",
    "for r in result:\n",
    "  print(r)"
   ]
  },
  {
   "cell_type": "code",
   "execution_count": 78,
   "metadata": {},
   "outputs": [
    {
     "name": "stdout",
     "output_type": "stream",
     "text": [
      "   November 2014\n",
      "Mo Tu We Th Fr Sa Su\n",
      "                1  2\n",
      " 3  4  5  6  7  8  9\n",
      "10 11 12 13 14 15 16\n",
      "17 18 19 20 21 22 23\n",
      "24 25 26 27 28 29 30\n",
      "\n"
     ]
    }
   ],
   "source": [
    "# Program to display calendar of the given month and year\n",
    "# importing calendar module\n",
    "import calendar\n",
    "yy = 2014 # year\n",
    "mm = 11 # month\n",
    "# To take month and year input from the user\n",
    "# yy = int(input(\"Enter year: \"))\n",
    "# mm = int(input(\"Enter month: \"))\n",
    "# display the calendar\n",
    "print(calendar.month(yy, mm))"
   ]
  },
  {
   "cell_type": "code",
   "execution_count": 86,
   "metadata": {},
   "outputs": [
    {
     "name": "stdout",
     "output_type": "stream",
     "text": [
      "Select operation.\n",
      "1.Add\n",
      "2.Subtract\n",
      "3.Multiply\n",
      "4.Divide\n",
      "78.0 - 89.0 = -11.0\n"
     ]
    },
    {
     "ename": "KeyboardInterrupt",
     "evalue": "Interrupted by user",
     "output_type": "error",
     "traceback": [
      "\u001b[0;31m---------------------------------------------------------------------------\u001b[0m",
      "\u001b[0;31mKeyboardInterrupt\u001b[0m                         Traceback (most recent call last)",
      "Cell \u001b[0;32mIn[86], line 21\u001b[0m\n\u001b[1;32m     18\u001b[0m \u001b[38;5;28mprint\u001b[39m(\u001b[38;5;124m\"\u001b[39m\u001b[38;5;124m4.Divide\u001b[39m\u001b[38;5;124m\"\u001b[39m)\n\u001b[1;32m     19\u001b[0m \u001b[38;5;28;01mwhile\u001b[39;00m \u001b[38;5;28;01mTrue\u001b[39;00m:\n\u001b[1;32m     20\u001b[0m \u001b[38;5;66;03m# take input from the user\u001b[39;00m\n\u001b[0;32m---> 21\u001b[0m      choice \u001b[38;5;241m=\u001b[39m \u001b[38;5;28;43minput\u001b[39;49m\u001b[43m(\u001b[49m\u001b[38;5;124;43m\"\u001b[39;49m\u001b[38;5;124;43mEnter choice(1/2/3/4): \u001b[39;49m\u001b[38;5;124;43m\"\u001b[39;49m\u001b[43m)\u001b[49m\n\u001b[1;32m     22\u001b[0m \u001b[38;5;66;03m# check if choice is one of the four options\u001b[39;00m\n\u001b[1;32m     23\u001b[0m      \u001b[38;5;28;01mif\u001b[39;00m choice \u001b[38;5;129;01min\u001b[39;00m (\u001b[38;5;124m'\u001b[39m\u001b[38;5;124m1\u001b[39m\u001b[38;5;124m'\u001b[39m, \u001b[38;5;124m'\u001b[39m\u001b[38;5;124m2\u001b[39m\u001b[38;5;124m'\u001b[39m, \u001b[38;5;124m'\u001b[39m\u001b[38;5;124m3\u001b[39m\u001b[38;5;124m'\u001b[39m, \u001b[38;5;124m'\u001b[39m\u001b[38;5;124m4\u001b[39m\u001b[38;5;124m'\u001b[39m):\n",
      "File \u001b[0;32m~/Library/Python/3.13/lib/python/site-packages/ipykernel/kernelbase.py:1282\u001b[0m, in \u001b[0;36mKernel.raw_input\u001b[0;34m(self, prompt)\u001b[0m\n\u001b[1;32m   1280\u001b[0m     msg \u001b[38;5;241m=\u001b[39m \u001b[38;5;124m\"\u001b[39m\u001b[38;5;124mraw_input was called, but this frontend does not support input requests.\u001b[39m\u001b[38;5;124m\"\u001b[39m\n\u001b[1;32m   1281\u001b[0m     \u001b[38;5;28;01mraise\u001b[39;00m StdinNotImplementedError(msg)\n\u001b[0;32m-> 1282\u001b[0m \u001b[38;5;28;01mreturn\u001b[39;00m \u001b[38;5;28;43mself\u001b[39;49m\u001b[38;5;241;43m.\u001b[39;49m\u001b[43m_input_request\u001b[49m\u001b[43m(\u001b[49m\n\u001b[1;32m   1283\u001b[0m \u001b[43m    \u001b[49m\u001b[38;5;28;43mstr\u001b[39;49m\u001b[43m(\u001b[49m\u001b[43mprompt\u001b[49m\u001b[43m)\u001b[49m\u001b[43m,\u001b[49m\n\u001b[1;32m   1284\u001b[0m \u001b[43m    \u001b[49m\u001b[38;5;28;43mself\u001b[39;49m\u001b[38;5;241;43m.\u001b[39;49m\u001b[43m_parent_ident\u001b[49m\u001b[43m[\u001b[49m\u001b[38;5;124;43m\"\u001b[39;49m\u001b[38;5;124;43mshell\u001b[39;49m\u001b[38;5;124;43m\"\u001b[39;49m\u001b[43m]\u001b[49m\u001b[43m,\u001b[49m\n\u001b[1;32m   1285\u001b[0m \u001b[43m    \u001b[49m\u001b[38;5;28;43mself\u001b[39;49m\u001b[38;5;241;43m.\u001b[39;49m\u001b[43mget_parent\u001b[49m\u001b[43m(\u001b[49m\u001b[38;5;124;43m\"\u001b[39;49m\u001b[38;5;124;43mshell\u001b[39;49m\u001b[38;5;124;43m\"\u001b[39;49m\u001b[43m)\u001b[49m\u001b[43m,\u001b[49m\n\u001b[1;32m   1286\u001b[0m \u001b[43m    \u001b[49m\u001b[43mpassword\u001b[49m\u001b[38;5;241;43m=\u001b[39;49m\u001b[38;5;28;43;01mFalse\u001b[39;49;00m\u001b[43m,\u001b[49m\n\u001b[1;32m   1287\u001b[0m \u001b[43m\u001b[49m\u001b[43m)\u001b[49m\n",
      "File \u001b[0;32m~/Library/Python/3.13/lib/python/site-packages/ipykernel/kernelbase.py:1325\u001b[0m, in \u001b[0;36mKernel._input_request\u001b[0;34m(self, prompt, ident, parent, password)\u001b[0m\n\u001b[1;32m   1322\u001b[0m \u001b[38;5;28;01mexcept\u001b[39;00m \u001b[38;5;167;01mKeyboardInterrupt\u001b[39;00m:\n\u001b[1;32m   1323\u001b[0m     \u001b[38;5;66;03m# re-raise KeyboardInterrupt, to truncate traceback\u001b[39;00m\n\u001b[1;32m   1324\u001b[0m     msg \u001b[38;5;241m=\u001b[39m \u001b[38;5;124m\"\u001b[39m\u001b[38;5;124mInterrupted by user\u001b[39m\u001b[38;5;124m\"\u001b[39m\n\u001b[0;32m-> 1325\u001b[0m     \u001b[38;5;28;01mraise\u001b[39;00m \u001b[38;5;167;01mKeyboardInterrupt\u001b[39;00m(msg) \u001b[38;5;28;01mfrom\u001b[39;00m\u001b[38;5;250m \u001b[39m\u001b[38;5;28;01mNone\u001b[39;00m\n\u001b[1;32m   1326\u001b[0m \u001b[38;5;28;01mexcept\u001b[39;00m \u001b[38;5;167;01mException\u001b[39;00m:\n\u001b[1;32m   1327\u001b[0m     \u001b[38;5;28mself\u001b[39m\u001b[38;5;241m.\u001b[39mlog\u001b[38;5;241m.\u001b[39mwarning(\u001b[38;5;124m\"\u001b[39m\u001b[38;5;124mInvalid Message:\u001b[39m\u001b[38;5;124m\"\u001b[39m, exc_info\u001b[38;5;241m=\u001b[39m\u001b[38;5;28;01mTrue\u001b[39;00m)\n",
      "\u001b[0;31mKeyboardInterrupt\u001b[0m: Interrupted by user"
     ]
    }
   ],
   "source": [
    "# Program make a simple calculator\n",
    "# This function adds two numbers\n",
    "def add(x, y):\n",
    "    return x + y\n",
    "# This function subtracts two numbers\n",
    "def subtract(x, y):\n",
    "    return x - y\n",
    "# This function multiplies two numbers\n",
    "def multiply(x, y):\n",
    "    return x * y\n",
    "# This function divides two numbers\n",
    "def divide(x, y):\n",
    "    return x / y\n",
    "print(\"Select operation.\")\n",
    "print(\"1.Add\")\n",
    "print(\"2.Subtract\")\n",
    "print(\"3.Multiply\")\n",
    "print(\"4.Divide\")\n",
    "while True:\n",
    "# take input from the user\n",
    "     choice = input(\"Enter choice(1/2/3/4): \")\n",
    "# check if choice is one of the four options\n",
    "     if choice in ('1', '2', '3', '4'):\n",
    "      num1 = float(input(\"Enter first number: \"))\n",
    "      num2 = float(input(\"Enter second number: \"))\n",
    "      if choice == '1':\n",
    "        print(num1, \"+\", num2, \"=\", add(num1, num2))\n",
    "      elif choice == '2':\n",
    "        print(num1, \"-\", num2, \"=\", subtract(num1, num2))\n",
    "      elif choice == '3':\n",
    "        print(num1, \"*\", num2, \"=\", multiply(num1, num2))\n",
    "      elif choice == '4':\n",
    "        print(num1, \"/\", num2, \"=\", divide(num1, num2))\n",
    "# check if user wants another calculation\n",
    "# break the while loop if answer is no\n",
    "      next_calculation = input(\"Let's do next calculation? (yes/no): \")\n",
    "     if next_calculation == \"no\":\n",
    "       break\n",
    "else:\n",
    "   print(\"Invalid Input\")"
   ]
  },
  {
   "cell_type": "code",
   "execution_count": 87,
   "metadata": {},
   "outputs": [
    {
     "name": "stdout",
     "output_type": "stream",
     "text": [
      "The factors of 320 are:\n",
      "1\n",
      "2\n",
      "4\n",
      "5\n",
      "8\n",
      "10\n",
      "16\n",
      "20\n",
      "32\n",
      "40\n",
      "64\n",
      "80\n",
      "160\n",
      "320\n"
     ]
    }
   ],
   "source": [
    "# Python Program to find the factors of a number\n",
    "# This function computes the factor of the argument passed\n",
    "def print_factors(x):\n",
    "    print(\"The factors of\",x,\"are:\")\n",
    "    for i in range(1, x + 1):\n",
    "       if x % i == 0:\n",
    "           print(i)\n",
    "num = 320\n",
    "print_factors(num)"
   ]
  },
  {
   "cell_type": "code",
   "execution_count": null,
   "metadata": {},
   "outputs": [],
   "source": [
    "\n",
    "\n",
    "1. Program to Calculate Sum of Digits, Reverse the Number, and Calculate Sum Again\n",
    "\n",
    "# Function to calculate the sum of digits in a number\n",
    "def sum_of_digits(n):\n",
    "    total = 0\n",
    "    while n > 0:\n",
    "        total += n % 10  # Extract last digit and add to sum\n",
    "        n //= 10  # Remove last digit\n",
    "    return total\n",
    "\n",
    "# Function to reverse the digits of a number\n",
    "def reverse_number(n):\n",
    "    rev = 0\n",
    "    while n > 0:\n",
    "        rev = rev * 10 + (n % 10)  # Shift previous digits left and add new digit\n",
    "        n //= 10  # Remove last digit\n",
    "    return rev\n",
    "\n",
    "# Taking user input\n",
    "num = int(input(\"Enter a number: \"))\n",
    "\n",
    "# Step 1: Calculate sum of digits\n",
    "sum1 = sum_of_digits(num)\n",
    "print(f\"Sum of digits in {num} is: {sum1}\")\n",
    "\n",
    "# Step 2: Reverse the number\n",
    "rev_num = reverse_number(num)\n",
    "print(f\"Reversed number is: {rev_num}\")\n",
    "\n",
    "# Step 3: Calculate sum of digits of reversed number\n",
    "sum2 = sum_of_digits(rev_num)\n",
    "print(f\"Sum of digits in reversed number ({rev_num}) is: {sum2}\")\n",
    "\n",
    "Example Output\n",
    "\n",
    "Enter a number: 1234\n",
    "Sum of digits in 1234 is: 10\n",
    "Reversed number is: 4321\n",
    "Sum of digits in reversed number (4321) is: 10\n",
    "\n",
    "2. Number Pattern Program\n",
    "\n",
    "# Print a simple number pattern\n",
    "n = int(input(\"Enter the number of rows: \"))\n",
    "\n",
    "for i in range(1, n + 1):\n",
    "    for j in range(1, i + 1):\n",
    "        print(j, end=\" \")  # Print numbers from 1 to i\n",
    "    print()  # Move to the next line\n",
    "\n",
    "Example Output (for n=5)\n",
    "\n",
    "Enter the number of rows: 5\n",
    "1\n",
    "1 2\n",
    "1 2 3\n",
    "1 2 3 4\n",
    "1 2 3 4 5\n",
    "\n",
    "3. Star Pattern Program\n",
    "\n",
    "# Print a star pyramid pattern\n",
    "n = int(input(\"Enter the number of rows: \"))\n",
    "\n",
    "for i in range(1, n + 1):\n",
    "    print(\" \" * (n - i) + \"* \" * i)  # Print spaces and stars\n",
    "\n",
    "Example Output (for n=5)\n",
    "\n",
    "Enter the number of rows: 5\n",
    "    * \n",
    "   * * \n",
    "  * * * \n",
    " * * * * \n",
    "* * * * * \n",
    "\n",
    "4. Print All Odd Numbers from 1 to N\n",
    "\n",
    "n = int(input(\"Enter the value of N: \"))\n",
    "\n",
    "print(f\"Odd numbers from 1 to {n}:\")\n",
    "for i in range(1, n + 1, 2):  # Step of 2 to print only odd numbers\n",
    "    print(i)\n",
    "\n",
    "Example Output (for n=10)\n",
    "\n",
    "Enter the value of N: 10\n",
    "Odd numbers from 1 to 10:\n",
    "1\n",
    "3\n",
    "5\n",
    "7\n",
    "9\n",
    "\n",
    "5. Print All Numbers Divisible by Both 3 and 5 from 1 to N\n",
    "\n",
    "n = int(input(\"Enter the value of N: \"))\n",
    "\n",
    "print(f\"Numbers divisible by both 3 and 5 from 1 to {n}:\")\n",
    "for i in range(1, n + 1):\n",
    "    if i % 3 == 0 and i % 5 == 0:\n",
    "        print(i)\n",
    "\n",
    "Example Output (for n=50)\n",
    "\n",
    "Enter the value of N: 50\n",
    "Numbers divisible by both 3 and 5 from 1 to 50:\n",
    "15\n",
    "30\n",
    "45\n"
   ]
  }
 ],
 "metadata": {
  "kernelspec": {
   "display_name": "Python 3",
   "language": "python",
   "name": "python3"
  },
  "language_info": {
   "codemirror_mode": {
    "name": "ipython",
    "version": 3
   },
   "file_extension": ".py",
   "mimetype": "text/x-python",
   "name": "python",
   "nbconvert_exporter": "python",
   "pygments_lexer": "ipython3",
   "version": "3.13.1"
  }
 },
 "nbformat": 4,
 "nbformat_minor": 2
}
